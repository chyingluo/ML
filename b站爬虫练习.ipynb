{
 "cells": [
  {
   "cell_type": "code",
   "execution_count": 5,
   "id": "484bbf60",
   "metadata": {},
   "outputs": [
    {
     "name": "stdout",
     "output_type": "stream",
     "text": [
      "Collecting selenium\n",
      "  Downloading selenium-4.1.3-py3-none-any.whl (968 kB)\n",
      "Collecting trio~=0.17\n",
      "  Downloading trio-0.20.0-py3-none-any.whl (359 kB)\n",
      "Requirement already satisfied: urllib3[secure,socks]~=1.26 in d:\\python\\lib\\site-packages (from selenium) (1.26.4)\n",
      "Collecting trio-websocket~=0.9\n",
      "  Downloading trio_websocket-0.9.2-py3-none-any.whl (16 kB)\n",
      "Requirement already satisfied: async-generator>=1.9 in d:\\python\\lib\\site-packages (from trio~=0.17->selenium) (1.10)\n",
      "Requirement already satisfied: sortedcontainers in d:\\python\\lib\\site-packages (from trio~=0.17->selenium) (2.3.0)\n",
      "Collecting outcome\n",
      "  Downloading outcome-1.1.0-py2.py3-none-any.whl (9.7 kB)\n",
      "Requirement already satisfied: sniffio in d:\\python\\lib\\site-packages (from trio~=0.17->selenium) (1.2.0)\n",
      "Requirement already satisfied: cffi>=1.14 in d:\\python\\lib\\site-packages (from trio~=0.17->selenium) (1.14.5)\n",
      "Requirement already satisfied: attrs>=19.2.0 in d:\\python\\lib\\site-packages (from trio~=0.17->selenium) (20.3.0)\n",
      "Requirement already satisfied: idna in d:\\python\\lib\\site-packages (from trio~=0.17->selenium) (2.10)\n",
      "Requirement already satisfied: pycparser in d:\\python\\lib\\site-packages (from cffi>=1.14->trio~=0.17->selenium) (2.20)\n",
      "Collecting wsproto>=0.14\n",
      "  Downloading wsproto-1.1.0-py3-none-any.whl (24 kB)\n",
      "Requirement already satisfied: cryptography>=1.3.4 in d:\\python\\lib\\site-packages (from urllib3[secure,socks]~=1.26->selenium) (3.4.7)\n",
      "Requirement already satisfied: pyOpenSSL>=0.14 in d:\\python\\lib\\site-packages (from urllib3[secure,socks]~=1.26->selenium) (20.0.1)\n",
      "Requirement already satisfied: certifi in d:\\python\\lib\\site-packages (from urllib3[secure,socks]~=1.26->selenium) (2020.12.5)\n",
      "Requirement already satisfied: PySocks!=1.5.7,<2.0,>=1.5.6 in d:\\python\\lib\\site-packages (from urllib3[secure,socks]~=1.26->selenium) (1.7.1)\n",
      "Requirement already satisfied: six>=1.5.2 in d:\\python\\lib\\site-packages (from pyOpenSSL>=0.14->urllib3[secure,socks]~=1.26->selenium) (1.15.0)\n",
      "Collecting h11<1,>=0.9.0\n",
      "  Downloading h11-0.13.0-py3-none-any.whl (58 kB)\n",
      "Installing collected packages: outcome, h11, wsproto, trio, trio-websocket, selenium\n",
      "Successfully installed h11-0.13.0 outcome-1.1.0 selenium-4.1.3 trio-0.20.0 trio-websocket-0.9.2 wsproto-1.1.0\n",
      "Note: you may need to restart the kernel to use updated packages.\n"
     ]
    }
   ],
   "source": [
    "pip install selenium"
   ]
  },
  {
   "cell_type": "code",
   "execution_count": null,
   "id": "9ffcbc75",
   "metadata": {},
   "outputs": [],
   "source": []
  },
  {
   "cell_type": "code",
   "execution_count": 1,
   "id": "dee5af35",
   "metadata": {},
   "outputs": [],
   "source": [
    "import warnings\n",
    " \n",
    "warnings.filterwarnings('ignore')"
   ]
  },
  {
   "cell_type": "code",
   "execution_count": 2,
   "id": "8e122e84",
   "metadata": {},
   "outputs": [],
   "source": [
    "from selenium import webdriver #驱动浏览器\n",
    "from selenium.webdriver.common.by import  By #选择器\n",
    "from selenium.webdriver.common.keys import  Keys #键盘按键选择\n",
    "from selenium.webdriver.support import  expected_conditions as EC #等待所有标签加载完毕\n",
    "from selenium.webdriver.support.wait import WebDriverWait #等待页面加载完毕，寻找某些元素。\n",
    "import time\n",
    "from urllib.parse import quote\n",
    "\n",
    "\n",
    "header={\n",
    "        'User-Agent': 'Mozilla/5.0 (Windows NT 10.0; Win64; x64) AppleWebKit/537.36 (KHTML, like Gecko) Chrome/99.0.4844.51 Safari/537.36 Edg/99.0.1150.39'\n",
    "    }\n",
    "browser = webdriver.Chrome(r'C:\\Program Files\\Google\\Chrome\\Application\\chromedriver.exe') #调用chrome驱动\n",
    "#browser.get('https://search.bilibili.com/video?keyword=%E7%81%AB%E9%94%85&page=2&o=24') "
   ]
  },
  {
   "cell_type": "code",
   "execution_count": 3,
   "id": "5b9beb72",
   "metadata": {},
   "outputs": [],
   "source": [
    "final=[]"
   ]
  },
  {
   "cell_type": "code",
   "execution_count": 4,
   "id": "eca98b32",
   "metadata": {},
   "outputs": [],
   "source": [
    "for i in range(10):\n",
    "    n=i+1\n",
    "    m=(i+1)*12\n",
    "    url='https://search.bilibili.com/video?vt=54075397&keyword=%E7%81%AB%E9%94%85&page={}'.format(i+1)\n",
    "    browser.get(url)\n",
    "    time.sleep(2)\n",
    "    d=browser.find_elements(by=By.CLASS_NAME,value='search-content')[0]\n",
    "    d1=d.find_element(by=By.CLASS_NAME,value='video-list')\n",
    "    div=d1.find_elements(by=By.CLASS_NAME,value='video-list-item')\n",
    "    for i in range(len(div)):\n",
    "        temp=[]\n",
    "        a=div[i].find_elements(by=By.CLASS_NAME,value='bili-video-card__stats--item')\n",
    "        a1=a[0].find_element(by=By.CSS_SELECTOR,value='span').text\n",
    "        temp.append(a1)\n",
    "        a2=a[1].find_element(by=By.CSS_SELECTOR,value='span').text\n",
    "        temp.append(a2)\n",
    "        a3=div[i].find_element(by=By.CLASS_NAME,value='bili-video-card__stats__duration').text\n",
    "        temp.append(a3)\n",
    "        a4=div[i].find_element(by=By.CLASS_NAME,value='bili-video-card__info--tit').text\n",
    "        temp.append(a4)\n",
    "        a5=div[i].find_element(by=By.CLASS_NAME,value='bili-video-card__info--author').text\n",
    "        temp.append(a5)\n",
    "        a6=div[i].find_element(by=By.CLASS_NAME,value='bili-video-card__info--date').text\n",
    "        temp.append(a6)\n",
    "        final.append(temp)\n",
    "    browser.quit"
   ]
  },
  {
   "cell_type": "code",
   "execution_count": 9,
   "id": "57589328",
   "metadata": {},
   "outputs": [],
   "source": [
    "name=['播放量','点赞数','时长','标题','up主','发布日期']"
   ]
  },
  {
   "cell_type": "code",
   "execution_count": 10,
   "id": "bda54a8b",
   "metadata": {},
   "outputs": [],
   "source": [
    "import pandas as pd\n",
    "test=pd.DataFrame(columns=name,data=final)"
   ]
  },
  {
   "cell_type": "code",
   "execution_count": 11,
   "id": "747f7074",
   "metadata": {},
   "outputs": [],
   "source": [
    "test.to_excel('final3.xlsx',encoding='utf-8')"
   ]
  },
  {
   "cell_type": "code",
   "execution_count": null,
   "id": "e3711bf5",
   "metadata": {},
   "outputs": [],
   "source": []
  }
 ],
 "metadata": {
  "kernelspec": {
   "display_name": "Python 3",
   "language": "python",
   "name": "python3"
  },
  "language_info": {
   "codemirror_mode": {
    "name": "ipython",
    "version": 3
   },
   "file_extension": ".py",
   "mimetype": "text/x-python",
   "name": "python",
   "nbconvert_exporter": "python",
   "pygments_lexer": "ipython3",
   "version": "3.8.8"
  }
 },
 "nbformat": 4,
 "nbformat_minor": 5
}
