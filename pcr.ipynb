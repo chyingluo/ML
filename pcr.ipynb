{
 "cells": [
  {
   "cell_type": "markdown",
   "id": "69f88fd9",
   "metadata": {},
   "source": [
    "# 使用PCR方法分析Hitters数据，去预测Salary。"
   ]
  },
  {
   "cell_type": "markdown",
   "id": "358e6373",
   "metadata": {},
   "source": [
    "The data set contains some information of American Basketball League players. There is a salary variable depending on the variables such as error, assist, experience, shooting belonging to the players. "
   ]
  },
  {
   "cell_type": "code",
   "execution_count": 41,
   "id": "70f8cbc8",
   "metadata": {},
   "outputs": [],
   "source": [
    "import pandas as pd\n",
    "import numpy as np\n",
    "from sklearn.linear_model import LinearRegression"
   ]
  },
  {
   "cell_type": "markdown",
   "id": "0479636b",
   "metadata": {},
   "source": [
    "读取数据，去掉缺失值值"
   ]
  },
  {
   "cell_type": "code",
   "execution_count": 5,
   "id": "65018109",
   "metadata": {},
   "outputs": [
    {
     "data": {
      "text/html": [
       "<div>\n",
       "<style scoped>\n",
       "    .dataframe tbody tr th:only-of-type {\n",
       "        vertical-align: middle;\n",
       "    }\n",
       "\n",
       "    .dataframe tbody tr th {\n",
       "        vertical-align: top;\n",
       "    }\n",
       "\n",
       "    .dataframe thead th {\n",
       "        text-align: right;\n",
       "    }\n",
       "</style>\n",
       "<table border=\"1\" class=\"dataframe\">\n",
       "  <thead>\n",
       "    <tr style=\"text-align: right;\">\n",
       "      <th></th>\n",
       "      <th>AtBat</th>\n",
       "      <th>Hits</th>\n",
       "      <th>HmRun</th>\n",
       "      <th>Runs</th>\n",
       "      <th>RBI</th>\n",
       "      <th>Walks</th>\n",
       "      <th>Years</th>\n",
       "      <th>CAtBat</th>\n",
       "      <th>CHits</th>\n",
       "      <th>CHmRun</th>\n",
       "      <th>CRuns</th>\n",
       "      <th>CRBI</th>\n",
       "      <th>CWalks</th>\n",
       "      <th>League</th>\n",
       "      <th>Division</th>\n",
       "      <th>PutOuts</th>\n",
       "      <th>Assists</th>\n",
       "      <th>Errors</th>\n",
       "      <th>Salary</th>\n",
       "      <th>NewLeague</th>\n",
       "    </tr>\n",
       "  </thead>\n",
       "  <tbody>\n",
       "    <tr>\n",
       "      <th>1</th>\n",
       "      <td>315</td>\n",
       "      <td>81</td>\n",
       "      <td>7</td>\n",
       "      <td>24</td>\n",
       "      <td>38</td>\n",
       "      <td>39</td>\n",
       "      <td>14</td>\n",
       "      <td>3449</td>\n",
       "      <td>835</td>\n",
       "      <td>69</td>\n",
       "      <td>321</td>\n",
       "      <td>414</td>\n",
       "      <td>375</td>\n",
       "      <td>N</td>\n",
       "      <td>W</td>\n",
       "      <td>632</td>\n",
       "      <td>43</td>\n",
       "      <td>10</td>\n",
       "      <td>475.0</td>\n",
       "      <td>N</td>\n",
       "    </tr>\n",
       "    <tr>\n",
       "      <th>2</th>\n",
       "      <td>479</td>\n",
       "      <td>130</td>\n",
       "      <td>18</td>\n",
       "      <td>66</td>\n",
       "      <td>72</td>\n",
       "      <td>76</td>\n",
       "      <td>3</td>\n",
       "      <td>1624</td>\n",
       "      <td>457</td>\n",
       "      <td>63</td>\n",
       "      <td>224</td>\n",
       "      <td>266</td>\n",
       "      <td>263</td>\n",
       "      <td>A</td>\n",
       "      <td>W</td>\n",
       "      <td>880</td>\n",
       "      <td>82</td>\n",
       "      <td>14</td>\n",
       "      <td>480.0</td>\n",
       "      <td>A</td>\n",
       "    </tr>\n",
       "    <tr>\n",
       "      <th>3</th>\n",
       "      <td>496</td>\n",
       "      <td>141</td>\n",
       "      <td>20</td>\n",
       "      <td>65</td>\n",
       "      <td>78</td>\n",
       "      <td>37</td>\n",
       "      <td>11</td>\n",
       "      <td>5628</td>\n",
       "      <td>1575</td>\n",
       "      <td>225</td>\n",
       "      <td>828</td>\n",
       "      <td>838</td>\n",
       "      <td>354</td>\n",
       "      <td>N</td>\n",
       "      <td>E</td>\n",
       "      <td>200</td>\n",
       "      <td>11</td>\n",
       "      <td>3</td>\n",
       "      <td>500.0</td>\n",
       "      <td>N</td>\n",
       "    </tr>\n",
       "    <tr>\n",
       "      <th>4</th>\n",
       "      <td>321</td>\n",
       "      <td>87</td>\n",
       "      <td>10</td>\n",
       "      <td>39</td>\n",
       "      <td>42</td>\n",
       "      <td>30</td>\n",
       "      <td>2</td>\n",
       "      <td>396</td>\n",
       "      <td>101</td>\n",
       "      <td>12</td>\n",
       "      <td>48</td>\n",
       "      <td>46</td>\n",
       "      <td>33</td>\n",
       "      <td>N</td>\n",
       "      <td>E</td>\n",
       "      <td>805</td>\n",
       "      <td>40</td>\n",
       "      <td>4</td>\n",
       "      <td>91.5</td>\n",
       "      <td>N</td>\n",
       "    </tr>\n",
       "    <tr>\n",
       "      <th>5</th>\n",
       "      <td>594</td>\n",
       "      <td>169</td>\n",
       "      <td>4</td>\n",
       "      <td>74</td>\n",
       "      <td>51</td>\n",
       "      <td>35</td>\n",
       "      <td>11</td>\n",
       "      <td>4408</td>\n",
       "      <td>1133</td>\n",
       "      <td>19</td>\n",
       "      <td>501</td>\n",
       "      <td>336</td>\n",
       "      <td>194</td>\n",
       "      <td>A</td>\n",
       "      <td>W</td>\n",
       "      <td>282</td>\n",
       "      <td>421</td>\n",
       "      <td>25</td>\n",
       "      <td>750.0</td>\n",
       "      <td>A</td>\n",
       "    </tr>\n",
       "  </tbody>\n",
       "</table>\n",
       "</div>"
      ],
      "text/plain": [
       "   AtBat  Hits  HmRun  Runs  RBI  Walks  Years  CAtBat  CHits  CHmRun  CRuns  \\\n",
       "1    315    81      7    24   38     39     14    3449    835      69    321   \n",
       "2    479   130     18    66   72     76      3    1624    457      63    224   \n",
       "3    496   141     20    65   78     37     11    5628   1575     225    828   \n",
       "4    321    87     10    39   42     30      2     396    101      12     48   \n",
       "5    594   169      4    74   51     35     11    4408   1133      19    501   \n",
       "\n",
       "   CRBI  CWalks League Division  PutOuts  Assists  Errors  Salary NewLeague  \n",
       "1   414     375      N        W      632       43      10   475.0         N  \n",
       "2   266     263      A        W      880       82      14   480.0         A  \n",
       "3   838     354      N        E      200       11       3   500.0         N  \n",
       "4    46      33      N        E      805       40       4    91.5         N  \n",
       "5   336     194      A        W      282      421      25   750.0         A  "
      ]
     },
     "execution_count": 5,
     "metadata": {},
     "output_type": "execute_result"
    }
   ],
   "source": [
    "hit = pd.read_csv(\"Hitters.csv\")\n",
    "df = hit.copy()###对副本数据进行修改，不会影响到原始数据，它们物理内存不在同一位置。\n",
    "df = df.dropna()\n",
    "df.head()###第一行当作表头。"
   ]
  },
  {
   "cell_type": "markdown",
   "id": "78c5feb7",
   "metadata": {},
   "source": [
    "df.info():主要介绍数据集各列的数据类型，是否为空值，内存占用情况。"
   ]
  },
  {
   "cell_type": "code",
   "execution_count": 7,
   "id": "fe401e74",
   "metadata": {},
   "outputs": [
    {
     "name": "stdout",
     "output_type": "stream",
     "text": [
      "<class 'pandas.core.frame.DataFrame'>\n",
      "Int64Index: 263 entries, 1 to 321\n",
      "Data columns (total 20 columns):\n",
      " #   Column     Non-Null Count  Dtype  \n",
      "---  ------     --------------  -----  \n",
      " 0   AtBat      263 non-null    int64  \n",
      " 1   Hits       263 non-null    int64  \n",
      " 2   HmRun      263 non-null    int64  \n",
      " 3   Runs       263 non-null    int64  \n",
      " 4   RBI        263 non-null    int64  \n",
      " 5   Walks      263 non-null    int64  \n",
      " 6   Years      263 non-null    int64  \n",
      " 7   CAtBat     263 non-null    int64  \n",
      " 8   CHits      263 non-null    int64  \n",
      " 9   CHmRun     263 non-null    int64  \n",
      " 10  CRuns      263 non-null    int64  \n",
      " 11  CRBI       263 non-null    int64  \n",
      " 12  CWalks     263 non-null    int64  \n",
      " 13  League     263 non-null    object \n",
      " 14  Division   263 non-null    object \n",
      " 15  PutOuts    263 non-null    int64  \n",
      " 16  Assists    263 non-null    int64  \n",
      " 17  Errors     263 non-null    int64  \n",
      " 18  Salary     263 non-null    float64\n",
      " 19  NewLeague  263 non-null    object \n",
      "dtypes: float64(1), int64(16), object(3)\n",
      "memory usage: 43.1+ KB\n"
     ]
    }
   ],
   "source": [
    "df.info()"
   ]
  },
  {
   "cell_type": "markdown",
   "id": "a4fcc356",
   "metadata": {},
   "source": [
    "df.describe(): 主要介绍数据集各列的数据统计情况（最大值、最小值、标准偏差、分位数等等）。\n",
    "描述性统计，后面的（.T）是转置。"
   ]
  },
  {
   "cell_type": "code",
   "execution_count": 9,
   "id": "a733e069",
   "metadata": {},
   "outputs": [
    {
     "data": {
      "text/html": [
       "<div>\n",
       "<style scoped>\n",
       "    .dataframe tbody tr th:only-of-type {\n",
       "        vertical-align: middle;\n",
       "    }\n",
       "\n",
       "    .dataframe tbody tr th {\n",
       "        vertical-align: top;\n",
       "    }\n",
       "\n",
       "    .dataframe thead th {\n",
       "        text-align: right;\n",
       "    }\n",
       "</style>\n",
       "<table border=\"1\" class=\"dataframe\">\n",
       "  <thead>\n",
       "    <tr style=\"text-align: right;\">\n",
       "      <th></th>\n",
       "      <th>count</th>\n",
       "      <th>mean</th>\n",
       "      <th>std</th>\n",
       "      <th>min</th>\n",
       "      <th>25%</th>\n",
       "      <th>50%</th>\n",
       "      <th>75%</th>\n",
       "      <th>max</th>\n",
       "    </tr>\n",
       "  </thead>\n",
       "  <tbody>\n",
       "    <tr>\n",
       "      <th>AtBat</th>\n",
       "      <td>263.0</td>\n",
       "      <td>403.642586</td>\n",
       "      <td>147.307209</td>\n",
       "      <td>19.0</td>\n",
       "      <td>282.5</td>\n",
       "      <td>413.0</td>\n",
       "      <td>526.0</td>\n",
       "      <td>687.0</td>\n",
       "    </tr>\n",
       "    <tr>\n",
       "      <th>Hits</th>\n",
       "      <td>263.0</td>\n",
       "      <td>107.828897</td>\n",
       "      <td>45.125326</td>\n",
       "      <td>1.0</td>\n",
       "      <td>71.5</td>\n",
       "      <td>103.0</td>\n",
       "      <td>141.5</td>\n",
       "      <td>238.0</td>\n",
       "    </tr>\n",
       "    <tr>\n",
       "      <th>HmRun</th>\n",
       "      <td>263.0</td>\n",
       "      <td>11.619772</td>\n",
       "      <td>8.757108</td>\n",
       "      <td>0.0</td>\n",
       "      <td>5.0</td>\n",
       "      <td>9.0</td>\n",
       "      <td>18.0</td>\n",
       "      <td>40.0</td>\n",
       "    </tr>\n",
       "    <tr>\n",
       "      <th>Runs</th>\n",
       "      <td>263.0</td>\n",
       "      <td>54.745247</td>\n",
       "      <td>25.539816</td>\n",
       "      <td>0.0</td>\n",
       "      <td>33.5</td>\n",
       "      <td>52.0</td>\n",
       "      <td>73.0</td>\n",
       "      <td>130.0</td>\n",
       "    </tr>\n",
       "    <tr>\n",
       "      <th>RBI</th>\n",
       "      <td>263.0</td>\n",
       "      <td>51.486692</td>\n",
       "      <td>25.882714</td>\n",
       "      <td>0.0</td>\n",
       "      <td>30.0</td>\n",
       "      <td>47.0</td>\n",
       "      <td>71.0</td>\n",
       "      <td>121.0</td>\n",
       "    </tr>\n",
       "    <tr>\n",
       "      <th>Walks</th>\n",
       "      <td>263.0</td>\n",
       "      <td>41.114068</td>\n",
       "      <td>21.718056</td>\n",
       "      <td>0.0</td>\n",
       "      <td>23.0</td>\n",
       "      <td>37.0</td>\n",
       "      <td>57.0</td>\n",
       "      <td>105.0</td>\n",
       "    </tr>\n",
       "    <tr>\n",
       "      <th>Years</th>\n",
       "      <td>263.0</td>\n",
       "      <td>7.311787</td>\n",
       "      <td>4.793616</td>\n",
       "      <td>1.0</td>\n",
       "      <td>4.0</td>\n",
       "      <td>6.0</td>\n",
       "      <td>10.0</td>\n",
       "      <td>24.0</td>\n",
       "    </tr>\n",
       "    <tr>\n",
       "      <th>CAtBat</th>\n",
       "      <td>263.0</td>\n",
       "      <td>2657.543726</td>\n",
       "      <td>2286.582929</td>\n",
       "      <td>19.0</td>\n",
       "      <td>842.5</td>\n",
       "      <td>1931.0</td>\n",
       "      <td>3890.5</td>\n",
       "      <td>14053.0</td>\n",
       "    </tr>\n",
       "    <tr>\n",
       "      <th>CHits</th>\n",
       "      <td>263.0</td>\n",
       "      <td>722.186312</td>\n",
       "      <td>648.199644</td>\n",
       "      <td>4.0</td>\n",
       "      <td>212.0</td>\n",
       "      <td>516.0</td>\n",
       "      <td>1054.0</td>\n",
       "      <td>4256.0</td>\n",
       "    </tr>\n",
       "    <tr>\n",
       "      <th>CHmRun</th>\n",
       "      <td>263.0</td>\n",
       "      <td>69.239544</td>\n",
       "      <td>82.197581</td>\n",
       "      <td>0.0</td>\n",
       "      <td>15.0</td>\n",
       "      <td>40.0</td>\n",
       "      <td>92.5</td>\n",
       "      <td>548.0</td>\n",
       "    </tr>\n",
       "    <tr>\n",
       "      <th>CRuns</th>\n",
       "      <td>263.0</td>\n",
       "      <td>361.220532</td>\n",
       "      <td>331.198571</td>\n",
       "      <td>2.0</td>\n",
       "      <td>105.5</td>\n",
       "      <td>250.0</td>\n",
       "      <td>497.5</td>\n",
       "      <td>2165.0</td>\n",
       "    </tr>\n",
       "    <tr>\n",
       "      <th>CRBI</th>\n",
       "      <td>263.0</td>\n",
       "      <td>330.418251</td>\n",
       "      <td>323.367668</td>\n",
       "      <td>3.0</td>\n",
       "      <td>95.0</td>\n",
       "      <td>230.0</td>\n",
       "      <td>424.5</td>\n",
       "      <td>1659.0</td>\n",
       "    </tr>\n",
       "    <tr>\n",
       "      <th>CWalks</th>\n",
       "      <td>263.0</td>\n",
       "      <td>260.266160</td>\n",
       "      <td>264.055868</td>\n",
       "      <td>1.0</td>\n",
       "      <td>71.0</td>\n",
       "      <td>174.0</td>\n",
       "      <td>328.5</td>\n",
       "      <td>1566.0</td>\n",
       "    </tr>\n",
       "    <tr>\n",
       "      <th>PutOuts</th>\n",
       "      <td>263.0</td>\n",
       "      <td>290.711027</td>\n",
       "      <td>279.934575</td>\n",
       "      <td>0.0</td>\n",
       "      <td>113.5</td>\n",
       "      <td>224.0</td>\n",
       "      <td>322.5</td>\n",
       "      <td>1377.0</td>\n",
       "    </tr>\n",
       "    <tr>\n",
       "      <th>Assists</th>\n",
       "      <td>263.0</td>\n",
       "      <td>118.760456</td>\n",
       "      <td>145.080577</td>\n",
       "      <td>0.0</td>\n",
       "      <td>8.0</td>\n",
       "      <td>45.0</td>\n",
       "      <td>192.0</td>\n",
       "      <td>492.0</td>\n",
       "    </tr>\n",
       "    <tr>\n",
       "      <th>Errors</th>\n",
       "      <td>263.0</td>\n",
       "      <td>8.593156</td>\n",
       "      <td>6.606574</td>\n",
       "      <td>0.0</td>\n",
       "      <td>3.0</td>\n",
       "      <td>7.0</td>\n",
       "      <td>13.0</td>\n",
       "      <td>32.0</td>\n",
       "    </tr>\n",
       "    <tr>\n",
       "      <th>Salary</th>\n",
       "      <td>263.0</td>\n",
       "      <td>535.925882</td>\n",
       "      <td>451.118681</td>\n",
       "      <td>67.5</td>\n",
       "      <td>190.0</td>\n",
       "      <td>425.0</td>\n",
       "      <td>750.0</td>\n",
       "      <td>2460.0</td>\n",
       "    </tr>\n",
       "  </tbody>\n",
       "</table>\n",
       "</div>"
      ],
      "text/plain": [
       "         count         mean          std   min    25%     50%     75%      max\n",
       "AtBat    263.0   403.642586   147.307209  19.0  282.5   413.0   526.0    687.0\n",
       "Hits     263.0   107.828897    45.125326   1.0   71.5   103.0   141.5    238.0\n",
       "HmRun    263.0    11.619772     8.757108   0.0    5.0     9.0    18.0     40.0\n",
       "Runs     263.0    54.745247    25.539816   0.0   33.5    52.0    73.0    130.0\n",
       "RBI      263.0    51.486692    25.882714   0.0   30.0    47.0    71.0    121.0\n",
       "Walks    263.0    41.114068    21.718056   0.0   23.0    37.0    57.0    105.0\n",
       "Years    263.0     7.311787     4.793616   1.0    4.0     6.0    10.0     24.0\n",
       "CAtBat   263.0  2657.543726  2286.582929  19.0  842.5  1931.0  3890.5  14053.0\n",
       "CHits    263.0   722.186312   648.199644   4.0  212.0   516.0  1054.0   4256.0\n",
       "CHmRun   263.0    69.239544    82.197581   0.0   15.0    40.0    92.5    548.0\n",
       "CRuns    263.0   361.220532   331.198571   2.0  105.5   250.0   497.5   2165.0\n",
       "CRBI     263.0   330.418251   323.367668   3.0   95.0   230.0   424.5   1659.0\n",
       "CWalks   263.0   260.266160   264.055868   1.0   71.0   174.0   328.5   1566.0\n",
       "PutOuts  263.0   290.711027   279.934575   0.0  113.5   224.0   322.5   1377.0\n",
       "Assists  263.0   118.760456   145.080577   0.0    8.0    45.0   192.0    492.0\n",
       "Errors   263.0     8.593156     6.606574   0.0    3.0     7.0    13.0     32.0\n",
       "Salary   263.0   535.925882   451.118681  67.5  190.0   425.0   750.0   2460.0"
      ]
     },
     "execution_count": 9,
     "metadata": {},
     "output_type": "execute_result"
    }
   ],
   "source": [
    "df.describe().T"
   ]
  },
  {
   "cell_type": "markdown",
   "id": "31597c2a",
   "metadata": {},
   "source": [
    " pd.get_dummies(),将类别转化为编码，这里把'League','Division','NewLeague'三个二元类别变量转为三个0，1虚拟变量。"
   ]
  },
  {
   "cell_type": "code",
   "execution_count": 42,
   "id": "f6260c2b",
   "metadata": {
    "scrolled": true
   },
   "outputs": [
    {
     "data": {
      "text/html": [
       "<div>\n",
       "<style scoped>\n",
       "    .dataframe tbody tr th:only-of-type {\n",
       "        vertical-align: middle;\n",
       "    }\n",
       "\n",
       "    .dataframe tbody tr th {\n",
       "        vertical-align: top;\n",
       "    }\n",
       "\n",
       "    .dataframe thead th {\n",
       "        text-align: right;\n",
       "    }\n",
       "</style>\n",
       "<table border=\"1\" class=\"dataframe\">\n",
       "  <thead>\n",
       "    <tr style=\"text-align: right;\">\n",
       "      <th></th>\n",
       "      <th>League_A</th>\n",
       "      <th>League_N</th>\n",
       "      <th>Division_E</th>\n",
       "      <th>Division_W</th>\n",
       "      <th>NewLeague_A</th>\n",
       "      <th>NewLeague_N</th>\n",
       "    </tr>\n",
       "  </thead>\n",
       "  <tbody>\n",
       "    <tr>\n",
       "      <th>1</th>\n",
       "      <td>0</td>\n",
       "      <td>1</td>\n",
       "      <td>0</td>\n",
       "      <td>1</td>\n",
       "      <td>0</td>\n",
       "      <td>1</td>\n",
       "    </tr>\n",
       "    <tr>\n",
       "      <th>2</th>\n",
       "      <td>1</td>\n",
       "      <td>0</td>\n",
       "      <td>0</td>\n",
       "      <td>1</td>\n",
       "      <td>1</td>\n",
       "      <td>0</td>\n",
       "    </tr>\n",
       "    <tr>\n",
       "      <th>3</th>\n",
       "      <td>0</td>\n",
       "      <td>1</td>\n",
       "      <td>1</td>\n",
       "      <td>0</td>\n",
       "      <td>0</td>\n",
       "      <td>1</td>\n",
       "    </tr>\n",
       "    <tr>\n",
       "      <th>4</th>\n",
       "      <td>0</td>\n",
       "      <td>1</td>\n",
       "      <td>1</td>\n",
       "      <td>0</td>\n",
       "      <td>0</td>\n",
       "      <td>1</td>\n",
       "    </tr>\n",
       "    <tr>\n",
       "      <th>5</th>\n",
       "      <td>1</td>\n",
       "      <td>0</td>\n",
       "      <td>0</td>\n",
       "      <td>1</td>\n",
       "      <td>1</td>\n",
       "      <td>0</td>\n",
       "    </tr>\n",
       "  </tbody>\n",
       "</table>\n",
       "</div>"
      ],
      "text/plain": [
       "   League_A  League_N  Division_E  Division_W  NewLeague_A  NewLeague_N\n",
       "1         0         1           0           1            0            1\n",
       "2         1         0           0           1            1            0\n",
       "3         0         1           1           0            0            1\n",
       "4         0         1           1           0            0            1\n",
       "5         1         0           0           1            1            0"
      ]
     },
     "execution_count": 42,
     "metadata": {},
     "output_type": "execute_result"
    }
   ],
   "source": [
    "dms = pd.get_dummies(df[['League','Division','NewLeague']])\n",
    "dms.head()"
   ]
  },
  {
   "cell_type": "markdown",
   "id": "9fba87b8",
   "metadata": {},
   "source": [
    "y = df[\"Salary\"] 是要预测的变量。"
   ]
  },
  {
   "cell_type": "code",
   "execution_count": 43,
   "id": "90c4d042",
   "metadata": {},
   "outputs": [],
   "source": [
    "y = df[\"Salary\"]"
   ]
  },
  {
   "cell_type": "markdown",
   "id": "db2221c9",
   "metadata": {},
   "source": [
    "把要预测的df[\"Salary\"]删掉，把\"League\",\"Division\",\"NewLeague\"换成0，1值。"
   ]
  },
  {
   "cell_type": "code",
   "execution_count": 12,
   "id": "8091f284",
   "metadata": {},
   "outputs": [],
   "source": [
    "X_ = df.drop([\"Salary\",\"League\",\"Division\",\"NewLeague\"], axis = 1).astype(\"float64\")"
   ]
  },
  {
   "cell_type": "code",
   "execution_count": 13,
   "id": "181cd925",
   "metadata": {},
   "outputs": [
    {
     "data": {
      "text/html": [
       "<div>\n",
       "<style scoped>\n",
       "    .dataframe tbody tr th:only-of-type {\n",
       "        vertical-align: middle;\n",
       "    }\n",
       "\n",
       "    .dataframe tbody tr th {\n",
       "        vertical-align: top;\n",
       "    }\n",
       "\n",
       "    .dataframe thead th {\n",
       "        text-align: right;\n",
       "    }\n",
       "</style>\n",
       "<table border=\"1\" class=\"dataframe\">\n",
       "  <thead>\n",
       "    <tr style=\"text-align: right;\">\n",
       "      <th></th>\n",
       "      <th>AtBat</th>\n",
       "      <th>Hits</th>\n",
       "      <th>HmRun</th>\n",
       "      <th>Runs</th>\n",
       "      <th>RBI</th>\n",
       "      <th>Walks</th>\n",
       "      <th>Years</th>\n",
       "      <th>CAtBat</th>\n",
       "      <th>CHits</th>\n",
       "      <th>CHmRun</th>\n",
       "      <th>CRuns</th>\n",
       "      <th>CRBI</th>\n",
       "      <th>CWalks</th>\n",
       "      <th>PutOuts</th>\n",
       "      <th>Assists</th>\n",
       "      <th>Errors</th>\n",
       "    </tr>\n",
       "  </thead>\n",
       "  <tbody>\n",
       "    <tr>\n",
       "      <th>1</th>\n",
       "      <td>315.0</td>\n",
       "      <td>81.0</td>\n",
       "      <td>7.0</td>\n",
       "      <td>24.0</td>\n",
       "      <td>38.0</td>\n",
       "      <td>39.0</td>\n",
       "      <td>14.0</td>\n",
       "      <td>3449.0</td>\n",
       "      <td>835.0</td>\n",
       "      <td>69.0</td>\n",
       "      <td>321.0</td>\n",
       "      <td>414.0</td>\n",
       "      <td>375.0</td>\n",
       "      <td>632.0</td>\n",
       "      <td>43.0</td>\n",
       "      <td>10.0</td>\n",
       "    </tr>\n",
       "    <tr>\n",
       "      <th>2</th>\n",
       "      <td>479.0</td>\n",
       "      <td>130.0</td>\n",
       "      <td>18.0</td>\n",
       "      <td>66.0</td>\n",
       "      <td>72.0</td>\n",
       "      <td>76.0</td>\n",
       "      <td>3.0</td>\n",
       "      <td>1624.0</td>\n",
       "      <td>457.0</td>\n",
       "      <td>63.0</td>\n",
       "      <td>224.0</td>\n",
       "      <td>266.0</td>\n",
       "      <td>263.0</td>\n",
       "      <td>880.0</td>\n",
       "      <td>82.0</td>\n",
       "      <td>14.0</td>\n",
       "    </tr>\n",
       "    <tr>\n",
       "      <th>3</th>\n",
       "      <td>496.0</td>\n",
       "      <td>141.0</td>\n",
       "      <td>20.0</td>\n",
       "      <td>65.0</td>\n",
       "      <td>78.0</td>\n",
       "      <td>37.0</td>\n",
       "      <td>11.0</td>\n",
       "      <td>5628.0</td>\n",
       "      <td>1575.0</td>\n",
       "      <td>225.0</td>\n",
       "      <td>828.0</td>\n",
       "      <td>838.0</td>\n",
       "      <td>354.0</td>\n",
       "      <td>200.0</td>\n",
       "      <td>11.0</td>\n",
       "      <td>3.0</td>\n",
       "    </tr>\n",
       "    <tr>\n",
       "      <th>4</th>\n",
       "      <td>321.0</td>\n",
       "      <td>87.0</td>\n",
       "      <td>10.0</td>\n",
       "      <td>39.0</td>\n",
       "      <td>42.0</td>\n",
       "      <td>30.0</td>\n",
       "      <td>2.0</td>\n",
       "      <td>396.0</td>\n",
       "      <td>101.0</td>\n",
       "      <td>12.0</td>\n",
       "      <td>48.0</td>\n",
       "      <td>46.0</td>\n",
       "      <td>33.0</td>\n",
       "      <td>805.0</td>\n",
       "      <td>40.0</td>\n",
       "      <td>4.0</td>\n",
       "    </tr>\n",
       "    <tr>\n",
       "      <th>5</th>\n",
       "      <td>594.0</td>\n",
       "      <td>169.0</td>\n",
       "      <td>4.0</td>\n",
       "      <td>74.0</td>\n",
       "      <td>51.0</td>\n",
       "      <td>35.0</td>\n",
       "      <td>11.0</td>\n",
       "      <td>4408.0</td>\n",
       "      <td>1133.0</td>\n",
       "      <td>19.0</td>\n",
       "      <td>501.0</td>\n",
       "      <td>336.0</td>\n",
       "      <td>194.0</td>\n",
       "      <td>282.0</td>\n",
       "      <td>421.0</td>\n",
       "      <td>25.0</td>\n",
       "    </tr>\n",
       "  </tbody>\n",
       "</table>\n",
       "</div>"
      ],
      "text/plain": [
       "   AtBat   Hits  HmRun  Runs   RBI  Walks  Years  CAtBat   CHits  CHmRun  \\\n",
       "1  315.0   81.0    7.0  24.0  38.0   39.0   14.0  3449.0   835.0    69.0   \n",
       "2  479.0  130.0   18.0  66.0  72.0   76.0    3.0  1624.0   457.0    63.0   \n",
       "3  496.0  141.0   20.0  65.0  78.0   37.0   11.0  5628.0  1575.0   225.0   \n",
       "4  321.0   87.0   10.0  39.0  42.0   30.0    2.0   396.0   101.0    12.0   \n",
       "5  594.0  169.0    4.0  74.0  51.0   35.0   11.0  4408.0  1133.0    19.0   \n",
       "\n",
       "   CRuns   CRBI  CWalks  PutOuts  Assists  Errors  \n",
       "1  321.0  414.0   375.0    632.0     43.0    10.0  \n",
       "2  224.0  266.0   263.0    880.0     82.0    14.0  \n",
       "3  828.0  838.0   354.0    200.0     11.0     3.0  \n",
       "4   48.0   46.0    33.0    805.0     40.0     4.0  \n",
       "5  501.0  336.0   194.0    282.0    421.0    25.0  "
      ]
     },
     "execution_count": 13,
     "metadata": {},
     "output_type": "execute_result"
    }
   ],
   "source": [
    "X_.head()"
   ]
  },
  {
   "cell_type": "code",
   "execution_count": 44,
   "id": "dc83458b",
   "metadata": {},
   "outputs": [
    {
     "data": {
      "text/html": [
       "<div>\n",
       "<style scoped>\n",
       "    .dataframe tbody tr th:only-of-type {\n",
       "        vertical-align: middle;\n",
       "    }\n",
       "\n",
       "    .dataframe tbody tr th {\n",
       "        vertical-align: top;\n",
       "    }\n",
       "\n",
       "    .dataframe thead th {\n",
       "        text-align: right;\n",
       "    }\n",
       "</style>\n",
       "<table border=\"1\" class=\"dataframe\">\n",
       "  <thead>\n",
       "    <tr style=\"text-align: right;\">\n",
       "      <th></th>\n",
       "      <th>AtBat</th>\n",
       "      <th>Hits</th>\n",
       "      <th>HmRun</th>\n",
       "      <th>Runs</th>\n",
       "      <th>RBI</th>\n",
       "      <th>Walks</th>\n",
       "      <th>Years</th>\n",
       "      <th>CAtBat</th>\n",
       "      <th>CHits</th>\n",
       "      <th>CHmRun</th>\n",
       "      <th>CRuns</th>\n",
       "      <th>CRBI</th>\n",
       "      <th>CWalks</th>\n",
       "      <th>PutOuts</th>\n",
       "      <th>Assists</th>\n",
       "      <th>Errors</th>\n",
       "      <th>League_N</th>\n",
       "      <th>Division_W</th>\n",
       "      <th>NewLeague_N</th>\n",
       "    </tr>\n",
       "  </thead>\n",
       "  <tbody>\n",
       "    <tr>\n",
       "      <th>1</th>\n",
       "      <td>315.0</td>\n",
       "      <td>81.0</td>\n",
       "      <td>7.0</td>\n",
       "      <td>24.0</td>\n",
       "      <td>38.0</td>\n",
       "      <td>39.0</td>\n",
       "      <td>14.0</td>\n",
       "      <td>3449.0</td>\n",
       "      <td>835.0</td>\n",
       "      <td>69.0</td>\n",
       "      <td>321.0</td>\n",
       "      <td>414.0</td>\n",
       "      <td>375.0</td>\n",
       "      <td>632.0</td>\n",
       "      <td>43.0</td>\n",
       "      <td>10.0</td>\n",
       "      <td>1</td>\n",
       "      <td>1</td>\n",
       "      <td>1</td>\n",
       "    </tr>\n",
       "    <tr>\n",
       "      <th>2</th>\n",
       "      <td>479.0</td>\n",
       "      <td>130.0</td>\n",
       "      <td>18.0</td>\n",
       "      <td>66.0</td>\n",
       "      <td>72.0</td>\n",
       "      <td>76.0</td>\n",
       "      <td>3.0</td>\n",
       "      <td>1624.0</td>\n",
       "      <td>457.0</td>\n",
       "      <td>63.0</td>\n",
       "      <td>224.0</td>\n",
       "      <td>266.0</td>\n",
       "      <td>263.0</td>\n",
       "      <td>880.0</td>\n",
       "      <td>82.0</td>\n",
       "      <td>14.0</td>\n",
       "      <td>0</td>\n",
       "      <td>1</td>\n",
       "      <td>0</td>\n",
       "    </tr>\n",
       "    <tr>\n",
       "      <th>3</th>\n",
       "      <td>496.0</td>\n",
       "      <td>141.0</td>\n",
       "      <td>20.0</td>\n",
       "      <td>65.0</td>\n",
       "      <td>78.0</td>\n",
       "      <td>37.0</td>\n",
       "      <td>11.0</td>\n",
       "      <td>5628.0</td>\n",
       "      <td>1575.0</td>\n",
       "      <td>225.0</td>\n",
       "      <td>828.0</td>\n",
       "      <td>838.0</td>\n",
       "      <td>354.0</td>\n",
       "      <td>200.0</td>\n",
       "      <td>11.0</td>\n",
       "      <td>3.0</td>\n",
       "      <td>1</td>\n",
       "      <td>0</td>\n",
       "      <td>1</td>\n",
       "    </tr>\n",
       "    <tr>\n",
       "      <th>4</th>\n",
       "      <td>321.0</td>\n",
       "      <td>87.0</td>\n",
       "      <td>10.0</td>\n",
       "      <td>39.0</td>\n",
       "      <td>42.0</td>\n",
       "      <td>30.0</td>\n",
       "      <td>2.0</td>\n",
       "      <td>396.0</td>\n",
       "      <td>101.0</td>\n",
       "      <td>12.0</td>\n",
       "      <td>48.0</td>\n",
       "      <td>46.0</td>\n",
       "      <td>33.0</td>\n",
       "      <td>805.0</td>\n",
       "      <td>40.0</td>\n",
       "      <td>4.0</td>\n",
       "      <td>1</td>\n",
       "      <td>0</td>\n",
       "      <td>1</td>\n",
       "    </tr>\n",
       "    <tr>\n",
       "      <th>5</th>\n",
       "      <td>594.0</td>\n",
       "      <td>169.0</td>\n",
       "      <td>4.0</td>\n",
       "      <td>74.0</td>\n",
       "      <td>51.0</td>\n",
       "      <td>35.0</td>\n",
       "      <td>11.0</td>\n",
       "      <td>4408.0</td>\n",
       "      <td>1133.0</td>\n",
       "      <td>19.0</td>\n",
       "      <td>501.0</td>\n",
       "      <td>336.0</td>\n",
       "      <td>194.0</td>\n",
       "      <td>282.0</td>\n",
       "      <td>421.0</td>\n",
       "      <td>25.0</td>\n",
       "      <td>0</td>\n",
       "      <td>1</td>\n",
       "      <td>0</td>\n",
       "    </tr>\n",
       "  </tbody>\n",
       "</table>\n",
       "</div>"
      ],
      "text/plain": [
       "   AtBat   Hits  HmRun  Runs   RBI  Walks  Years  CAtBat   CHits  CHmRun  \\\n",
       "1  315.0   81.0    7.0  24.0  38.0   39.0   14.0  3449.0   835.0    69.0   \n",
       "2  479.0  130.0   18.0  66.0  72.0   76.0    3.0  1624.0   457.0    63.0   \n",
       "3  496.0  141.0   20.0  65.0  78.0   37.0   11.0  5628.0  1575.0   225.0   \n",
       "4  321.0   87.0   10.0  39.0  42.0   30.0    2.0   396.0   101.0    12.0   \n",
       "5  594.0  169.0    4.0  74.0  51.0   35.0   11.0  4408.0  1133.0    19.0   \n",
       "\n",
       "   CRuns   CRBI  CWalks  PutOuts  Assists  Errors  League_N  Division_W  \\\n",
       "1  321.0  414.0   375.0    632.0     43.0    10.0         1           1   \n",
       "2  224.0  266.0   263.0    880.0     82.0    14.0         0           1   \n",
       "3  828.0  838.0   354.0    200.0     11.0     3.0         1           0   \n",
       "4   48.0   46.0    33.0    805.0     40.0     4.0         1           0   \n",
       "5  501.0  336.0   194.0    282.0    421.0    25.0         0           1   \n",
       "\n",
       "   NewLeague_N  \n",
       "1            1  \n",
       "2            0  \n",
       "3            1  \n",
       "4            1  \n",
       "5            0  "
      ]
     },
     "execution_count": 44,
     "metadata": {},
     "output_type": "execute_result"
    }
   ],
   "source": [
    "X = pd.concat([X_, dms[[\"League_N\",\"Division_W\",\"NewLeague_N\"]]], axis = 1)###pd.concat()默认上下堆叠，参数axis = 1设为左右拼接。\n",
    "X.head()"
   ]
  },
  {
   "cell_type": "markdown",
   "id": "99f4754d",
   "metadata": {},
   "source": [
    "train_test_split将原始数据按照比例分割为“测试集”和“训练集”。\n",
    "test_size=0.25是测试集占总样本的百分比。\n",
    "random_state=42是随机数种子。"
   ]
  },
  {
   "cell_type": "code",
   "execution_count": 45,
   "id": "576f0ca5",
   "metadata": {},
   "outputs": [
    {
     "name": "stdout",
     "output_type": "stream",
     "text": [
      "X_train (197, 19)\n",
      "y_train (197,)\n",
      "X_test (66, 19)\n",
      "y_test (66,)\n",
      "training (263, 20)\n"
     ]
    }
   ],
   "source": [
    "from sklearn.model_selection import train_test_split,cross_val_score,cross_val_predict\n",
    "X_train, X_test, y_train, y_test = train_test_split(X,y,test_size=0.25,random_state=42)\n",
    "\n",
    "print(\"X_train\", X_train.shape)\n",
    "\n",
    "print(\"y_train\", y_train.shape)\n",
    "\n",
    "print(\"X_test\", X_test.shape)\n",
    "\n",
    "print(\"y_test\", y_test.shape)\n",
    "\n",
    "training = df.copy()###副本。\n",
    "\n",
    "print(\"training\", training.shape)"
   ]
  },
  {
   "cell_type": "markdown",
   "id": "c75ff350",
   "metadata": {},
   "source": [
    "直接调包\n",
    "\n",
    "sklearn.decomposition.PCA 中的pca.fit_transform()用来训练PCA模型，自动降维，同时返回降维后的数据。\n",
    "\n",
    "sklearn.preprocessing.scale，数据预处理，scale()标准化，均值变为0，方差变为1。\n"
   ]
  },
  {
   "cell_type": "code",
   "execution_count": 18,
   "id": "316c3f7a",
   "metadata": {},
   "outputs": [],
   "source": [
    "from sklearn.decomposition import PCA\n",
    "from sklearn.preprocessing import scale\n",
    "pca = PCA()"
   ]
  },
  {
   "cell_type": "markdown",
   "id": "07a39fcd",
   "metadata": {},
   "source": [
    "旋转坐标轴"
   ]
  },
  {
   "cell_type": "code",
   "execution_count": 49,
   "id": "e0554cbc",
   "metadata": {},
   "outputs": [
    {
     "name": "stdout",
     "output_type": "stream",
     "text": [
      "X_reduced_train.shape (197, 19)\n"
     ]
    }
   ],
   "source": [
    "X_reduced_train = pca.fit_transform(scale(X_train))\n",
    "print(\"X_reduced_train.shape\",X_reduced_train.shape)"
   ]
  },
  {
   "cell_type": "code",
   "execution_count": 59,
   "id": "8e8a8360",
   "metadata": {},
   "outputs": [
    {
     "data": {
      "text/plain": [
       "array([[-2.49569913e+00, -3.37762397e-01,  7.06391950e-01,\n",
       "        -1.32791025e+00, -8.21824333e-01, -6.62790677e-01,\n",
       "        -6.56764789e-01,  3.68093279e-02, -2.03665105e-01,\n",
       "         1.76134815e-01, -9.20131987e-02,  2.40129020e-01,\n",
       "        -3.60473661e-03, -3.41246327e-02,  4.32799605e-02,\n",
       "         1.02996923e-01,  3.70733348e-03,  1.37933445e-03,\n",
       "        -6.63814471e-03]])"
      ]
     },
     "execution_count": 59,
     "metadata": {},
     "output_type": "execute_result"
    }
   ],
   "source": [
    "X_reduced_train[0:1,:] ###旋转之后第一个样本点的坐标。"
   ]
  },
  {
   "cell_type": "code",
   "execution_count": 52,
   "id": "a45870ee",
   "metadata": {},
   "outputs": [
    {
     "data": {
      "text/plain": [
       "array([[ 1.57074119, -0.6264137 ,  3.18877005,  1.1621204 , -1.53912925,\n",
       "        -0.6181545 ,  1.39000146,  0.77138581,  0.24259021, -0.57255347,\n",
       "        -0.09401456, -0.05554259,  0.41044145,  0.01665555,  0.20643749,\n",
       "         0.01244189,  0.02724013, -0.16810894,  0.120561  ]])"
      ]
     },
     "execution_count": 52,
     "metadata": {},
     "output_type": "execute_result"
    }
   ],
   "source": [
    "X_reduced_train[1:2,:]###旋转之后第二个样本点的坐标。"
   ]
  },
  {
   "cell_type": "code",
   "execution_count": 53,
   "id": "e8da315a",
   "metadata": {},
   "outputs": [
    {
     "data": {
      "text/plain": [
       "array([[ 1.50009234, -1.7214891 , -1.68448622, -0.09963579,  1.13499306,\n",
       "        -0.35344241,  0.04879466, -0.14854805, -0.11534444,  0.38650444,\n",
       "         0.11069469, -0.24031963,  0.25083415,  0.40352333, -0.48204267,\n",
       "        -0.03519008,  0.05533988, -0.09085195, -0.01154648]])"
      ]
     },
     "execution_count": 53,
     "metadata": {},
     "output_type": "execute_result"
    }
   ],
   "source": [
    "X_reduced_train[2:3,:]###旋转之后第三个样本点的坐标。"
   ]
  },
  {
   "cell_type": "code",
   "execution_count": 56,
   "id": "96939da5",
   "metadata": {},
   "outputs": [
    {
     "data": {
      "text/plain": [
       "array([[-2.49461763,  1.29479668, -0.8730115 ,  1.38186166, -1.25393624,\n",
       "         0.33575583, -0.25331435,  0.00323531, -0.21860494, -0.2178487 ,\n",
       "        -0.11178346,  0.10490786, -0.57627353, -0.09619614,  0.32670594,\n",
       "        -0.26507509,  0.05318352,  0.03860084, -0.02612041]])"
      ]
     },
     "execution_count": 56,
     "metadata": {},
     "output_type": "execute_result"
    }
   ],
   "source": [
    "X_reduced_train[3:4,:]###旋转之后第四个样本点的坐标。"
   ]
  },
  {
   "cell_type": "code",
   "execution_count": 60,
   "id": "81a4c94d",
   "metadata": {},
   "outputs": [
    {
     "data": {
      "text/plain": [
       "array([[-2.50242254, -0.84352948,  0.58910991,  2.8194333 ,  0.55373595,\n",
       "         0.55583966,  0.58573619,  0.16924393,  0.58150264,  0.4618366 ,\n",
       "        -0.003477  ,  0.05727404, -0.29219167,  0.11605339, -0.1965347 ,\n",
       "        -0.20542108,  0.04505877,  0.10360705, -0.0221173 ]])"
      ]
     },
     "execution_count": 60,
     "metadata": {},
     "output_type": "execute_result"
    }
   ],
   "source": [
    "X_reduced_train[196:197,:]###旋转之后第197个样本点的坐标。"
   ]
  },
  {
   "cell_type": "code",
   "execution_count": 74,
   "id": "4ea4c162",
   "metadata": {},
   "outputs": [
    {
     "data": {
      "text/plain": [
       "array([38.18, 59.88, 70.88, 78.88, 84.18, 88.45, 92.05, 94.86])"
      ]
     },
     "execution_count": 74,
     "metadata": {},
     "output_type": "execute_result"
    }
   ],
   "source": [
    "np.cumsum(np.round(pca.explained_variance_ratio_, decimals = 4)*100)[0:8]\n",
    "###pca.explained_variance_ratio_查看降维后每个新特征向量所占的信息量占原始数据总信息量的比例。\n",
    "###np.cumsum()累计求和。"
   ]
  },
  {
   "cell_type": "code",
   "execution_count": 75,
   "id": "41b000c6",
   "metadata": {},
   "outputs": [
    {
     "data": {
      "image/png": "[encoded data removed]",
      "text/plain": [
       "<Figure size 864x432 with 1 Axes>"
      ]
     },
     "metadata": {
      "needs_background": "light"
     },
     "output_type": "display_data"
    }
   ],
   "source": [
    "import matplotlib.pyplot as plt\n",
    "plt.figure(figsize=(12,6))\n",
    "plt.plot([1,2,3,4,5,6,7,8,9,10,11,12,13,14,15,16,17,18,19],np.cumsum(pca.explained_variance_ratio_))\n",
    "plt.xticks([1,2,3,4,5,6,7,8,9,10,11,12,13,14,15,16,17,18,19])        \n",
    "plt.xlabel(\"Number of Components after Dimension Reduction\")\n",
    "plt.ylabel(\"Cumulative Explained Variance\")\n",
    "plt.show()"
   ]
  },
  {
   "cell_type": "markdown",
   "id": "7b718d09",
   "metadata": {},
   "source": [
    "X_reduced_train和y_train做线性拟合。"
   ]
  },
  {
   "cell_type": "code",
   "execution_count": 81,
   "id": "0685e245",
   "metadata": {},
   "outputs": [
    {
     "data": {
      "text/plain": [
       "543.4834416243655"
      ]
     },
     "execution_count": 81,
     "metadata": {},
     "output_type": "execute_result"
    }
   ],
   "source": [
    "lm = LinearRegression()\n",
    "pcr_model = lm.fit(X_reduced_train, y_train)\n",
    "pcr_model.intercept_ ###常数项β0"
   ]
  },
  {
   "cell_type": "code",
   "execution_count": 82,
   "id": "8bbc0582",
   "metadata": {},
   "outputs": [
    {
     "data": {
      "text/plain": [
       "array([ 111.13977427,  -29.34209502,   26.29799759,  -38.47549852,\n",
       "        -56.9200785 ,   54.44779423,   40.77493384,  -23.72746012,\n",
       "          9.31198164,   13.02031672,   45.58357748,   31.97791627,\n",
       "         18.93930958, -115.60940171,   24.00382778,  415.70806202,\n",
       "       -449.51779543,  563.07375399,  302.53718462])"
      ]
     },
     "execution_count": 82,
     "metadata": {},
     "output_type": "execute_result"
    }
   ],
   "source": [
    "pcr_model.coef_###回归系数β1，β2，...,β19。"
   ]
  },
  {
   "cell_type": "markdown",
   "id": "b4068356",
   "metadata": {},
   "source": [
    "未降维之前学习器在训练集中的性能。\n",
    "\n",
    "评价标准：MSE 、 R2。"
   ]
  },
  {
   "cell_type": "code",
   "execution_count": 83,
   "id": "e29dd78e",
   "metadata": {},
   "outputs": [
    {
     "data": {
      "text/plain": [
       "array([377.44484744, 802.19452124, 495.60987745, 112.53177731,\n",
       "       426.21613066])"
      ]
     },
     "execution_count": 83,
     "metadata": {},
     "output_type": "execute_result"
    }
   ],
   "source": [
    "from sklearn.metrics import mean_squared_error, r2_score\n",
    "y_pred = pcr_model.predict(X_reduced_train)###用拟合好的模型预测y。\n",
    "y_pred[0:5]"
   ]
  },
  {
   "cell_type": "code",
   "execution_count": 84,
   "id": "820f2f0b",
   "metadata": {},
   "outputs": [
    {
     "data": {
      "text/plain": [
       "289.32928255649756"
      ]
     },
     "execution_count": 84,
     "metadata": {},
     "output_type": "execute_result"
    }
   ],
   "source": [
    "np.sqrt(mean_squared_error(y_train, y_pred))###训练集中预测出来的y和真实的y之间的RMSE。"
   ]
  },
  {
   "cell_type": "code",
   "execution_count": 26,
   "id": "a073def2",
   "metadata": {},
   "outputs": [
    {
     "data": {
      "text/plain": [
       "535.9258821292775"
      ]
     },
     "execution_count": 26,
     "metadata": {},
     "output_type": "execute_result"
    }
   ],
   "source": [
    "df[\"Salary\"].mean()"
   ]
  },
  {
   "cell_type": "code",
   "execution_count": 85,
   "id": "96e7ea7d",
   "metadata": {},
   "outputs": [
    {
     "data": {
      "text/plain": [
       "0.577007525041018"
      ]
     },
     "execution_count": 85,
     "metadata": {},
     "output_type": "execute_result"
    }
   ],
   "source": [
    "r2_score(y_train, y_pred)###训练集中预测出来的y和真实的y之间的r2得分。\n",
    "###r2得分比较低，说明模型效果不是很好。"
   ]
  },
  {
   "cell_type": "markdown",
   "id": "b30b6531",
   "metadata": {},
   "source": [
    "未降维之前学习器在测试集中的性能。\n",
    "\n",
    "评价标准：MSE "
   ]
  },
  {
   "cell_type": "code",
   "execution_count": 86,
   "id": "12d60e74",
   "metadata": {},
   "outputs": [
    {
     "data": {
      "text/plain": [
       "405.1575364149967"
      ]
     },
     "execution_count": 86,
     "metadata": {},
     "output_type": "execute_result"
    }
   ],
   "source": [
    "pca2 = PCA()\n",
    "X_reduced_test = pca2.fit_transform(scale(X_test))\n",
    "y_pred = pcr_model.predict(X_reduced_test)\n",
    "np.sqrt(mean_squared_error(y_test,y_pred))###测试集中的RMSE比训练集中的还要高。"
   ]
  },
  {
   "cell_type": "markdown",
   "id": "a9dead61",
   "metadata": {},
   "source": [
    "模型校正（model tuning）。\n",
    "\n",
    "降维。\n",
    "\n",
    "十折交叉验证。"
   ]
  },
  {
   "cell_type": "markdown",
   "id": "ac824149",
   "metadata": {},
   "source": [
    "K次交叉验证，将训练集分割成K个子样本，一个单独的子样本被保留作为验证模型的数据，其他K-1个样本用来训练。交叉验证重复K次，每个子样本验证一次，平均K次的结果或者使用其它结合方式，最终得到一个单一估测。这个方法的优势在于，同时重复运用随机产生的子样本进行训练和验证，每次的结果验证一次，10次交叉验证是最常用的。"
   ]
  },
  {
   "cell_type": "code",
   "execution_count": 29,
   "id": "80bc32c1",
   "metadata": {},
   "outputs": [
    {
     "name": "stdout",
     "output_type": "stream",
     "text": [
      "390.7914255682225\n"
     ]
    }
   ],
   "source": [
    "lm = LinearRegression()\n",
    "pcr_model = lm.fit(X_reduced_train[:,0:10], y_train\n",
    "y_pred = pcr_model.predict(X_reduced_test[:,0:10])\n",
    "print(np.sqrt(mean_squared_error(y_test, y_pred)))###降至10维的效果。"
   ]
  },
  {
   "cell_type": "code",
   "execution_count": 32,
   "id": "fc90863b",
   "metadata": {},
   "outputs": [],
   "source": [
    "from sklearn import model_selection\n",
    "cv_10 = model_selection.KFold(n_splits = 10, shuffle = True, random_state = 1)###十折交叉验证。\n",
    "lm = LinearRegression()"
   ]
  },
  {
   "cell_type": "code",
   "execution_count": 33,
   "id": "3bf5bcde",
   "metadata": {},
   "outputs": [],
   "source": [
    "RMSE = []"
   ]
  },
  {
   "cell_type": "code",
   "execution_count": 87,
   "id": "9d14a1b2",
   "metadata": {},
   "outputs": [],
   "source": [
    "for i in np.arange(1, X_reduced_train.shape[1] + 1):\n",
    "    score = np.sqrt(-1*model_selection.cross_val_score(lm,\n",
    "                                                      X_reduced_train[:,:i],\n",
    "                                                      y_train.ravel(),\n",
    "                                                      cv = cv_10,\n",
    "                                                      scoring='neg_mean_squared_error').mean())\n",
    "    RMSE.append(score)\n",
    "    \n",
    "# 参数设置中 scoring = 'neg_mean_squared_error' 可以看出，\n",
    "# 前边有个 neg ，neg 就是negative 负数的意思，sklearn 在计算模型评估指标的时候，\n",
    "# 会考虑指标本身的性质，既然是误差那肯定是一种损失 Loss。在 sklearn 中，所有的损失都用负数表示，\n",
    "# 所以无论是均方误差还是平方误差，都会被计算成负数。而我们真正需要的值需要去掉负号。"
   ]
  },
  {
   "cell_type": "code",
   "execution_count": 35,
   "id": "4c112607",
   "metadata": {},
   "outputs": [
    {
     "data": {
      "image/png": "[encoded data removed]",
      "text/plain": [
       "<Figure size 864x432 with 1 Axes>"
      ]
     },
     "metadata": {
      "needs_background": "light"
     },
     "output_type": "display_data"
    }
   ],
   "source": [
    "import matplotlib.pyplot as plt\n",
    "plt.figure(figsize=(12,6))\n",
    "plt.plot(RMSE,'-v')\n",
    "plt.xlabel('Components')\n",
    "plt.ylabel('RMSE')\n",
    "plt.title('PCR Model Tuning for Salary Estimation Model');\n",
    "\n",
    "#Components 为 6 的时候RMSE最小。"
   ]
  },
  {
   "cell_type": "code",
   "execution_count": 88,
   "id": "46d577da",
   "metadata": {},
   "outputs": [
    {
     "name": "stdout",
     "output_type": "stream",
     "text": [
      "308.8265983094501\n"
     ]
    }
   ],
   "source": [
    "lm = LinearRegression()\n",
    "pcr_model = lm.fit(X_reduced_train[:,0:6], y_train)\n",
    "y_pred = pcr_model.predict(X_reduced_train[:,0:6])\n",
    "print(np.sqrt(mean_squared_error(y_train, y_pred)))\n",
    "\n",
    "#提取六个主成分后进行回归拟合后的学习器，在训练集上的RMSE有所下降，性能有所提升。"
   ]
  },
  {
   "cell_type": "code",
   "execution_count": 89,
   "id": "510d52eb",
   "metadata": {},
   "outputs": [
    {
     "name": "stdout",
     "output_type": "stream",
     "text": [
      "393.1198700096224\n"
     ]
    }
   ],
   "source": [
    "y_pred = pcr_model.predict(X_reduced_test[:,0:6])\n",
    "print(np.sqrt(mean_squared_error(y_test, y_pred)))\n",
    "\n",
    "#提取六个主成分后进行回归拟合后的学习器，在测试集上的RMSE有所下降，性能有所提升。"
   ]
  }
 ],
 "metadata": {
  "kernelspec": {
   "display_name": "Python 3",
   "language": "python",
   "name": "python3"
  },
  "language_info": {
   "codemirror_mode": {
    "name": "ipython",
    "version": 3
   },
   "file_extension": ".py",
   "mimetype": "text/x-python",
   "name": "python",
   "nbconvert_exporter": "python",
   "pygments_lexer": "ipython3",
   "version": "3.8.8"
  }
 },
 "nbformat": 4,
 "nbformat_minor": 5
}
